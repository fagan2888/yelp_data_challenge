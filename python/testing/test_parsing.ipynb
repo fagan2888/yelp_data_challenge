{
 "cells": [
  {
   "cell_type": "code",
   "execution_count": 119,
   "metadata": {
    "collapsed": false
   },
   "outputs": [],
   "source": [
    "import pandas as pd\n",
    "import numpy as np\n",
    "import json\n",
    "import re\n",
    "import nltk\n",
    "\n",
    "from collections import Counter\n",
    "from nltk.tokenize import RegexpTokenizer\n",
    "from nltk.corpus import stopwords\n",
    "from nltk.stem import SnowballStemmer\n",
    "\n",
    "# Read data file into a python array\n",
    "# with open('../data/test_tip.json', 'rb') as f:\n",
    "with open('../data/test_review.json', 'rb') as f:\n",
    "    bus_data = f.readlines()\n",
    "\n",
    "# remove the trailing \"\\n\" from each line\n",
    "bus_data = map(lambda x: x.rstrip(), bus_data)\n",
    "# put individual business JSON objects into list\n",
    "data_json = \"[\" + ','.join(bus_data) + \"]\"\n",
    "\n",
    "# Create pandas df\n",
    "bus_df = pd.read_json(data_json)"
   ]
  },
  {
   "cell_type": "code",
   "execution_count": 122,
   "metadata": {
    "collapsed": false
   },
   "outputs": [
    {
     "data": {
      "text/html": [
       "<div>\n",
       "<table border=\"1\" class=\"dataframe\">\n",
       "  <thead>\n",
       "    <tr style=\"text-align: right;\">\n",
       "      <th></th>\n",
       "      <th>business_id</th>\n",
       "      <th>date</th>\n",
       "      <th>review_id</th>\n",
       "      <th>stars</th>\n",
       "      <th>text</th>\n",
       "      <th>type</th>\n",
       "      <th>user_id</th>\n",
       "      <th>votes</th>\n",
       "    </tr>\n",
       "  </thead>\n",
       "  <tbody>\n",
       "    <tr>\n",
       "      <th>0</th>\n",
       "      <td>5UmKMjUEUNdYWqANhGckJw</td>\n",
       "      <td>2012-08-01</td>\n",
       "      <td>Ya85v4eqdd6k9Od8HbQjyA</td>\n",
       "      <td>4</td>\n",
       "      <td>Mr Hoagie is an institution. Walking in, it do...</td>\n",
       "      <td>review</td>\n",
       "      <td>PUFPaY9KxDAcGqfsorJp3Q</td>\n",
       "      <td>{u'funny': 0, u'useful': 0, u'cool': 0}</td>\n",
       "    </tr>\n",
       "    <tr>\n",
       "      <th>1</th>\n",
       "      <td>5UmKMjUEUNdYWqANhGckJw</td>\n",
       "      <td>2014-02-13</td>\n",
       "      <td>KPvLNJ21_4wbYNctrOwWdQ</td>\n",
       "      <td>5</td>\n",
       "      <td>Excellent food. Superb customer service. I mis...</td>\n",
       "      <td>review</td>\n",
       "      <td>Iu6AxdBYGR4A0wspR9BYHA</td>\n",
       "      <td>{u'funny': 0, u'useful': 0, u'cool': 0}</td>\n",
       "    </tr>\n",
       "    <tr>\n",
       "      <th>2</th>\n",
       "      <td>5UmKMjUEUNdYWqANhGckJw</td>\n",
       "      <td>2015-10-31</td>\n",
       "      <td>fFSoGV46Yxuwbr3fHNuZig</td>\n",
       "      <td>5</td>\n",
       "      <td>Yes this place is a little out dated and not o...</td>\n",
       "      <td>review</td>\n",
       "      <td>auESFwWvW42h6alXgFxAXQ</td>\n",
       "      <td>{u'funny': 0, u'useful': 0, u'cool': 0}</td>\n",
       "    </tr>\n",
       "    <tr>\n",
       "      <th>3</th>\n",
       "      <td>UsFtqoBl7naz8AVUBZMjQQ</td>\n",
       "      <td>2013-11-08</td>\n",
       "      <td>Di3exaUCFNw1V4kSNW5pgA</td>\n",
       "      <td>5</td>\n",
       "      <td>All the food is great here. But the best thing...</td>\n",
       "      <td>review</td>\n",
       "      <td>uK8tzraOp4M5u3uYrqIBXg</td>\n",
       "      <td>{u'funny': 0, u'useful': 0, u'cool': 0}</td>\n",
       "    </tr>\n",
       "    <tr>\n",
       "      <th>4</th>\n",
       "      <td>UsFtqoBl7naz8AVUBZMjQQ</td>\n",
       "      <td>2014-03-29</td>\n",
       "      <td>0Lua2-PbqEQMjD9r89-asw</td>\n",
       "      <td>3</td>\n",
       "      <td>We checked this place out this past Monday for...</td>\n",
       "      <td>review</td>\n",
       "      <td>I_47G-R2_egp7ME5u_ltew</td>\n",
       "      <td>{u'funny': 0, u'useful': 0, u'cool': 0}</td>\n",
       "    </tr>\n",
       "  </tbody>\n",
       "</table>\n",
       "</div>"
      ],
      "text/plain": [
       "              business_id       date               review_id  stars  \\\n",
       "0  5UmKMjUEUNdYWqANhGckJw 2012-08-01  Ya85v4eqdd6k9Od8HbQjyA      4   \n",
       "1  5UmKMjUEUNdYWqANhGckJw 2014-02-13  KPvLNJ21_4wbYNctrOwWdQ      5   \n",
       "2  5UmKMjUEUNdYWqANhGckJw 2015-10-31  fFSoGV46Yxuwbr3fHNuZig      5   \n",
       "3  UsFtqoBl7naz8AVUBZMjQQ 2013-11-08  Di3exaUCFNw1V4kSNW5pgA      5   \n",
       "4  UsFtqoBl7naz8AVUBZMjQQ 2014-03-29  0Lua2-PbqEQMjD9r89-asw      3   \n",
       "\n",
       "                                                text    type  \\\n",
       "0  Mr Hoagie is an institution. Walking in, it do...  review   \n",
       "1  Excellent food. Superb customer service. I mis...  review   \n",
       "2  Yes this place is a little out dated and not o...  review   \n",
       "3  All the food is great here. But the best thing...  review   \n",
       "4  We checked this place out this past Monday for...  review   \n",
       "\n",
       "                  user_id                                    votes  \n",
       "0  PUFPaY9KxDAcGqfsorJp3Q  {u'funny': 0, u'useful': 0, u'cool': 0}  \n",
       "1  Iu6AxdBYGR4A0wspR9BYHA  {u'funny': 0, u'useful': 0, u'cool': 0}  \n",
       "2  auESFwWvW42h6alXgFxAXQ  {u'funny': 0, u'useful': 0, u'cool': 0}  \n",
       "3  uK8tzraOp4M5u3uYrqIBXg  {u'funny': 0, u'useful': 0, u'cool': 0}  \n",
       "4  I_47G-R2_egp7ME5u_ltew  {u'funny': 0, u'useful': 0, u'cool': 0}  "
      ]
     },
     "execution_count": 122,
     "metadata": {},
     "output_type": "execute_result"
    }
   ],
   "source": [
    "bus_df.head()\n",
    "# type(bus_df.stars[1])"
   ]
  },
  {
   "cell_type": "code",
   "execution_count": null,
   "metadata": {
    "collapsed": false
   },
   "outputs": [],
   "source": []
  },
  {
   "cell_type": "code",
   "execution_count": 93,
   "metadata": {
    "collapsed": false
   },
   "outputs": [],
   "source": [
    "# Helper functions for normalising text data\n",
    "\n",
    "# Convert all words to lowercase, remove punctuation, tokenise and stem\n",
    "# and remove stopwords, threshold = 10%\n",
    "def norm_corpus(document):\n",
    "\n",
    "    # lowercase and remove symbols\n",
    "    tokenizer = RegexpTokenizer(r'\\w+')\n",
    "    doc_tokens = tokenizer.tokenize(document.lower())\n",
    "        \n",
    "    # remove stopwords\n",
    "    doc_tokens = [word for word in doc_tokens if word not in stopwords.words('english')]\n",
    "        \n",
    "    # stem words\n",
    "    stemmer = SnowballStemmer(\"english\")\n",
    "    doc_stem = [stemmer.stem(word) for word in doc_tokens]\n",
    "        \n",
    "    # make tokenised text one string\n",
    "    norm_doc = \" \".join(doc_stem)\n",
    "    \n",
    "    return norm_doc"
   ]
  },
  {
   "cell_type": "code",
   "execution_count": 94,
   "metadata": {
    "collapsed": false
   },
   "outputs": [],
   "source": [
    "# Helper functions for vectorise normalised data"
   ]
  },
  {
   "cell_type": "code",
   "execution_count": 95,
   "metadata": {
    "collapsed": false
   },
   "outputs": [],
   "source": [
    "# Vectorise keywords from normalised text to vector including only nouns and adjectives\n",
    "def review_vector(norm_doc):\n",
    "\n",
    "    # select all words categorised as nouns or adjectives\n",
    "    # loop through each string i.e. review in the df column\n",
    "    review_keyword_list = []\n",
    "    doc = nltk.word_tokenize(norm_doc)\n",
    "\n",
    "    # create tuple for each word in list: (word, tag)\n",
    "    token_category = nltk.pos_tag(doc)  \n",
    "\n",
    "    for word, tag in token_category:   \n",
    "            \n",
    "        # nouns\n",
    "        if (tag == 'NN' or tag == 'NNS' or tag == 'NNP' or tag == 'NNPS'):\n",
    "            review_keyword_list.append(word)\n",
    "                \n",
    "        # adjectives\n",
    "        elif (tag == 'JJ' or tag == 'JJS' or tag == 'JJP' or tag == 'JJPS'):\n",
    "            review_keyword_list.append(word)\n",
    "        \n",
    "        else:\n",
    "            pass     \n",
    "        \n",
    "    review_keywords = \" \".join(review_keyword_list)\n",
    "        \n",
    "    # vectorise string\n",
    "    WORD = re.compile(r'\\w+')\n",
    "    review_vector = Counter(WORD.findall(review_keywords))\n",
    "    \n",
    "    \n",
    "    return review_vector"
   ]
  },
  {
   "cell_type": "code",
   "execution_count": 144,
   "metadata": {
    "collapsed": false
   },
   "outputs": [],
   "source": [
    "bus_df = bus_df[bus_df.stars > 3]\n",
    "output_df = bus_df.ix[:,['business_id', 'user_id', 'date', 'stars', 'votes', 'text']]\n",
    "# output_df.text = output_df.text.apply(lambda x: norm_corpus(x))\n",
    "# print \"tip text normalised, next: vectorise\"\n",
    "# output_df.text = output_df.text.apply(lambda x: review_vector(x))\n",
    "# output_df.head()"
   ]
  },
  {
   "cell_type": "code",
   "execution_count": null,
   "metadata": {
    "collapsed": false
   },
   "outputs": [],
   "source": []
  },
  {
   "cell_type": "code",
   "execution_count": 45,
   "metadata": {
    "collapsed": false
   },
   "outputs": [],
   "source": [
    "sve2_all[sve2_all[' Hgtot ng/l'] > 100] = np.nan\n",
    "sve2_all.loc[sve2_all['Hgtot ng/l'] > 100] = np.nan"
   ]
  },
  {
   "cell_type": "code",
   "execution_count": null,
   "metadata": {
    "collapsed": false
   },
   "outputs": [],
   "source": []
  },
  {
   "cell_type": "code",
   "execution_count": null,
   "metadata": {
    "collapsed": false
   },
   "outputs": [],
   "source": []
  },
  {
   "cell_type": "code",
   "execution_count": null,
   "metadata": {
    "collapsed": false
   },
   "outputs": [],
   "source": []
  },
  {
   "cell_type": "code",
   "execution_count": null,
   "metadata": {
    "collapsed": true
   },
   "outputs": [],
   "source": []
  }
 ],
 "metadata": {
  "kernelspec": {
   "display_name": "Python 2",
   "language": "python",
   "name": "python2"
  },
  "language_info": {
   "codemirror_mode": {
    "name": "ipython",
    "version": 2
   },
   "file_extension": ".py",
   "mimetype": "text/x-python",
   "name": "python",
   "nbconvert_exporter": "python",
   "pygments_lexer": "ipython2",
   "version": "2.7.10"
  }
 },
 "nbformat": 4,
 "nbformat_minor": 0
}
