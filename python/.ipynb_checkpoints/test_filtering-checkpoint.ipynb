{
 "cells": [
  {
   "cell_type": "code",
   "execution_count": 73,
   "metadata": {
    "collapsed": false
   },
   "outputs": [
    {
     "name": "stderr",
     "output_type": "stream",
     "text": [
      "/Library/Python/2.7/site-packages/ipykernel/__main__.py:15: ParserWarning: Falling back to the 'python' engine because the 'c' engine does not support regex separators (separators > 1 char and different from '\\s+' are interpreted as regex); you can avoid this warning by specifying engine='python'.\n"
     ]
    }
   ],
   "source": [
    "import pandas as pd\n",
    "import json\n",
    "\n",
    "# Read tips data file into a python array\n",
    "# with open('../data/yelp_academic_dataset_tip.json', 'rb') as f:\n",
    "with open('../data/test_business.json', 'rb') as f:\n",
    "\tbus_data = f.readlines()\n",
    "\n",
    "# remove the trailing \"\\n\" from each line\n",
    "bus_data = map(lambda x: x.rstrip(), bus_data)\n",
    "# put individual JSON objects into list\n",
    "bus_json = \"[\" + ','.join(bus_data) + \"]\"\n",
    "\n",
    "# Create pandas df\n",
    "tip_df = pd.read_csv('../parsed_data/parsed_tip_data.csv', 'rb')\n",
    "bus_df = pd.read_json(bus_json)\n",
    "\n",
    "# List of all food and drinks categories in data set\n",
    "food_drink = ['Afghan', 'Creperies', 'Canadian (New)', 'Szechan', \n",
    "\t\t\t\t'Restarants', 'Cantonese', 'Crry Sasage', 'Chicken Wings',\n",
    "\t\t\t\t'Food Stands', 'Eastern Eropean', 'Persian/Iranian', \n",
    "\t\t\t\t'Cajun', 'Creole', 'Scandinavian', 'Greek', 'Pretzels', \n",
    "\t\t\t\t'Chinese', 'Food Trcks', 'Middle Eastern', 'Macarons', \n",
    "\t\t\t\t'Brazilian', 'Shanghainese', 'Empanadas', 'Hngarian', 'Diners',\n",
    "\t\t\t\t'Russian', 'Vegetarian', 'Chicken Shop', 'Kosher', \n",
    "\t\t\t\t'Jice Bars & Smoothies', 'Pita', 'German', 'Taiwanese', \n",
    "\t\t\t\t'Haitian', 'Laotian', 'Basqe', 'Vietnamese', 'Astralian',\n",
    "\t\t\t\t'Pizza', 'Venezelan', 'Wine Tasting Room', 'Falafel', 'Food Cort',\n",
    "\t\t\t\t'Beer Garden', 'Seafood', 'British', 'Beer Gardens', 'Japanese', \n",
    "\t\t\t\t'Pb Food', 'Hot Dogs', 'Salvadoran', 'Sandwiches', 'Swiss Food',\n",
    "\t\t\t\t'Dim Sm', 'Armenian', 'Patisserie', 'Cake', 'Cocktail Bars', \n",
    "\t\t\t\t'Dive Bars', 'Scottish', 'Wok', 'Distilleries', 'Coffee & Tea', \n",
    "\t\t\t\t'Cheesesteaks', 'Tapas Bars', 'Cban', 'Brgers', 'Bavarian', \n",
    "\t\t\t\t'Tex-Mex', 'Cpcakes', 'Food Tors', 'Barbeqe', \n",
    "\t\t\t\t'American (Traditional)', 'Wine Tasting Classes', 'Delicatessen', \n",
    "\t\t\t\t'Egyptian', 'Food', 'Moroccan', 'Convenience Stores', \n",
    "\t\t\t\t'Comfort Food', 'Portgese', 'Chocolatiers & Shops', 'Cheese Shops',\n",
    "\t\t\t\t'Cafeteria', 'Glten-Free', 'Tea Rooms', 'French', 'Slovakian',\n",
    "\t\t\t\t'Fonde', 'Irish', 'Food Delivery Services', 'Italian', \n",
    "\t\t\t\t'Mediterranean', 'Astrian', 'Internet Cafes', 'Personal Chefs', \n",
    "\t\t\t\t'Irish Pb', 'Caribbean', 'American (New)', 'Caterers', \n",
    "\t\t\t\t'Breakfast & Brnch', 'Do-It-Yorself Food', 'Indonesian', \n",
    "\t\t\t\t'Hawaiian', 'Argentine', 'Thai', 'Sri Lankan', 'Fish & Chips', \n",
    "\t\t\t\t'Food Banks', 'Brmese', 'Beer Bar', 'Singaporean', 'Asian Fsion', \n",
    "\t\t\t\t'Ethiopian', 'Trkish', 'African', 'Live/Raw Food', 'Bangladeshi',\n",
    "\t\t\t\t'Gay Bars', 'Sothern', 'Cooking Schools', 'Rhinelandian', \n",
    "\t\t\t\t'Champagne Bars', 'Pawn Shops', 'Candy Stores', 'Kebab', \n",
    "\t\t\t\t'Wine Tors', 'Wine Bars', 'Donts', 'Bagels', 'Dominican', \n",
    "\t\t\t\t'Beer, Wine & Spirits', 'Himalayan/Nepalese', 'Local Flavor', \n",
    "\t\t\t\t'Lebanese', 'Sop', 'Coffeeshops', 'Pervian', 'krainian', \n",
    "\t\t\t\t'Tapas/Small Plates', 'Arabian', 'Belgian', 'Pasta Shops', \n",
    "\t\t\t\t'Salad', 'Ethnic Grocery', 'Steakhoses', 'Gelato', 'Desserts', \n",
    "\t\t\t\t'Perto Rican', 'Polish', 'Frits & Veggies', 'International', \n",
    "\t\t\t\t'Beer Hall', 'Bbble Tea', 'Cafes', 'Wineries', \n",
    "\t\t\t\t'Ice Cream & Frozen Yogrt', 'Bars', 'Pop-p Shops', 'Korean', \n",
    "\t\t\t\t'Pakistani', 'Vegan', 'Gastropbs', 'Popcorn Shops', 'Bakeries', \n",
    "\t\t\t\t'Breweries', 'Malaysian', 'Modern Eropean', 'Potineries', 'Czech',\n",
    "\t\t\t\t'Ramen', 'Fast Food', 'Colombian', 'Serbo Croatian', 'Cambodian',\n",
    "\t\t\t\t'Hot Pot', 'Mexican', 'Meat Shops', 'Specialty Food', 'Spanish']\n",
    "\n",
    "food_drink = [unicode(word) for word in food_drink]\n"
   ]
  },
  {
   "cell_type": "code",
   "execution_count": 74,
   "metadata": {
    "collapsed": true
   },
   "outputs": [],
   "source": [
    "# Helper function to determine if business sells food or drink\n",
    "# def is_food_drink(business_categories):\n",
    "def is_food_drink(business_categories):\n",
    "    is_food_drink = 0\n",
    "    if len(set(business_categories).intersection(food_drink)) != 0:\n",
    "        is_food_drink = int('1')\n",
    "    else:\n",
    "        pass\n",
    "        \n",
    "    return is_food_drink"
   ]
  },
  {
   "cell_type": "code",
   "execution_count": 49,
   "metadata": {
    "collapsed": false
   },
   "outputs": [
    {
     "data": {
      "text/html": [
       "<div>\n",
       "<table border=\"1\" class=\"dataframe\">\n",
       "  <thead>\n",
       "    <tr style=\"text-align: right;\">\n",
       "      <th></th>\n",
       "      <th>attributes</th>\n",
       "      <th>business_id</th>\n",
       "      <th>categories</th>\n",
       "      <th>city</th>\n",
       "      <th>full_address</th>\n",
       "      <th>hours</th>\n",
       "      <th>latitude</th>\n",
       "      <th>longitude</th>\n",
       "      <th>name</th>\n",
       "      <th>neighborhoods</th>\n",
       "      <th>open</th>\n",
       "      <th>review_count</th>\n",
       "      <th>stars</th>\n",
       "      <th>state</th>\n",
       "      <th>type</th>\n",
       "      <th>food_drink</th>\n",
       "    </tr>\n",
       "  </thead>\n",
       "  <tbody>\n",
       "    <tr>\n",
       "      <th>0</th>\n",
       "      <td>{u'Take-out': True, u'Drive-Thru': False, u'Ou...</td>\n",
       "      <td>5UmKMjUEUNdYWqANhGckJw</td>\n",
       "      <td>[Fast Food, Restaurants]</td>\n",
       "      <td>Dravosburg</td>\n",
       "      <td>4734 Lebanon Church Rd\\nDravosburg, PA 15034</td>\n",
       "      <td>{u'Tuesday': {u'close': u'21:00', u'open': u'1...</td>\n",
       "      <td>40.354327</td>\n",
       "      <td>-79.900706</td>\n",
       "      <td>Mr Hoagie</td>\n",
       "      <td>[]</td>\n",
       "      <td>True</td>\n",
       "      <td>4</td>\n",
       "      <td>4.5</td>\n",
       "      <td>PA</td>\n",
       "      <td>business</td>\n",
       "      <td>None</td>\n",
       "    </tr>\n",
       "  </tbody>\n",
       "</table>\n",
       "</div>"
      ],
      "text/plain": [
       "                                          attributes             business_id  \\\n",
       "0  {u'Take-out': True, u'Drive-Thru': False, u'Ou...  5UmKMjUEUNdYWqANhGckJw   \n",
       "\n",
       "                 categories        city  \\\n",
       "0  [Fast Food, Restaurants]  Dravosburg   \n",
       "\n",
       "                                   full_address  \\\n",
       "0  4734 Lebanon Church Rd\\nDravosburg, PA 15034   \n",
       "\n",
       "                                               hours   latitude  longitude  \\\n",
       "0  {u'Tuesday': {u'close': u'21:00', u'open': u'1...  40.354327 -79.900706   \n",
       "\n",
       "        name neighborhoods  open  review_count  stars state      type  \\\n",
       "0  Mr Hoagie            []  True             4    4.5    PA  business   \n",
       "\n",
       "  food_drink  \n",
       "0       None  "
      ]
     },
     "execution_count": 49,
     "metadata": {},
     "output_type": "execute_result"
    }
   ],
   "source": [
    "bus_df.head(1)"
   ]
  },
  {
   "cell_type": "code",
   "execution_count": 50,
   "metadata": {
    "collapsed": false
   },
   "outputs": [],
   "source": [
    "bus_df['food_drink'] = bus_df.categories.apply(lambda x: is_food_drink(x))"
   ]
  },
  {
   "cell_type": "code",
   "execution_count": 69,
   "metadata": {
    "collapsed": false
   },
   "outputs": [],
   "source": [
    "bus_df = bus_df[['business_id', 'latitude', 'longitude', 'name', 'city', 'stars', 'review_count']]"
   ]
  },
  {
   "cell_type": "code",
   "execution_count": 70,
   "metadata": {
    "collapsed": false
   },
   "outputs": [],
   "source": [
    "new_df = bus_df[(bus_df.city == 'Montreal') | (bus_df.city == 'Pittsburgh') | (bus_df.city == 'Edinburgh')]"
   ]
  },
  {
   "cell_type": "code",
   "execution_count": 71,
   "metadata": {
    "collapsed": true
   },
   "outputs": [],
   "source": [
    "output_df = pd.merge(tip_df, \n",
    "\tbus_df, \n",
    "\tleft_on='business_id',\n",
    "\tright_on='business_id', how='left')"
   ]
  },
  {
   "cell_type": "code",
   "execution_count": 72,
   "metadata": {
    "collapsed": false
   },
   "outputs": [
    {
     "data": {
      "text/plain": [
       "[u'business_id',\n",
       " u'date',\n",
       " u'likes',\n",
       " u'text',\n",
       " u'type',\n",
       " u'user_id',\n",
       " u'latitude',\n",
       " u'longitude',\n",
       " u'name',\n",
       " u'city',\n",
       " u'stars',\n",
       " u'review_count']"
      ]
     },
     "execution_count": 72,
     "metadata": {},
     "output_type": "execute_result"
    }
   ],
   "source": [
    "output_df.columns.tolist()"
   ]
  },
  {
   "cell_type": "code",
   "execution_count": 68,
   "metadata": {
    "collapsed": false
   },
   "outputs": [
    {
     "data": {
      "text/plain": [
       "0                               Don't waste your time.\n",
       "1    Your GPS will not allow you to find this place...\n",
       "2                                Great drink specials!\n",
       "3    Friendly staff, good food, great beer selectio...\n",
       "4                               Beautiful restoration.\n",
       "5                      Home to Stage 62 theatre group.\n",
       "6                A God send if you're not a gear head!\n",
       "7       Great people ... great service ... always busy\n",
       "8    Sarah rocks! Best waitress here! Be sure to ge...\n",
       "9                                        Unleaded 3.42\n",
       "Name: text, dtype: object"
      ]
     },
     "execution_count": 68,
     "metadata": {},
     "output_type": "execute_result"
    }
   ],
   "source": [
    "output_df.text"
   ]
  },
  {
   "cell_type": "code",
   "execution_count": null,
   "metadata": {
    "collapsed": true
   },
   "outputs": [],
   "source": []
  }
 ],
 "metadata": {
  "kernelspec": {
   "display_name": "Python 2",
   "language": "python",
   "name": "python2"
  },
  "language_info": {
   "codemirror_mode": {
    "name": "ipython",
    "version": 2
   },
   "file_extension": ".py",
   "mimetype": "text/x-python",
   "name": "python",
   "nbconvert_exporter": "python",
   "pygments_lexer": "ipython2",
   "version": "2.7.10"
  }
 },
 "nbformat": 4,
 "nbformat_minor": 0
}
